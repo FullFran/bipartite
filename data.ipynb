{
 "cells": [
  {
   "cell_type": "code",
   "execution_count": 1,
   "metadata": {},
   "outputs": [],
   "source": [
    "import pandas as pd\n",
    "import numpy as np\n",
    "import networkx as nx\n",
    "import matplotlib.pyplot as plt\n",
    "import seaborn as sns"
   ]
  },
  {
   "cell_type": "code",
   "execution_count": 2,
   "metadata": {},
   "outputs": [
    {
     "name": "stdout",
     "output_type": "stream",
     "text": [
      "El tamaño de la red está definido por los siguientes valores:\n",
      "Total de enlaces: 25713\n",
      "Total de nodos: 13574\n",
      "Total de nodos usuario: 2947\n",
      "Total de nodos de palabras: 10627\n"
     ]
    }
   ],
   "source": [
    "all_edges = []\n",
    "all_edges_aux = []\n",
    "# Archivo de texto que contiene los enlaces de la red (se encuenta en la carpeta del proyecto)\n",
    "with open('data.txt', encoding=\"utf8\") as f:\n",
    "    next(f)\n",
    "    for line in f:\n",
    "        edge = line.replace('\\n', '').split('\\t')\n",
    "        # Condicional para validar si ya existe un enlace y agregarlo como peso\n",
    "        if (edge[0], edge[1]) in all_edges_aux:\n",
    "            edge_index = all_edges_aux.index((edge[0], edge[1]))\n",
    "            # Se suma 1 al peso anterioir que tenía el enlace\n",
    "            all_edges[edge_index] = (edge[0], edge[1], all_edges[edge_index][2] + 1)\n",
    "        else:\n",
    "            # Se agrega el nuevo enlace al auxiliar y al original. En el arreglo original de enlaces se inicia\n",
    "            # con un peso de 1\n",
    "            all_edges.append((edge[0], edge[1],1))\n",
    "            all_edges_aux.append((edge[0], edge[1]))\n",
    "\n",
    "# Total de enlaces de la red\n",
    "total_count_edges = len(all_edges)\n",
    "\n",
    "# Arreglos para almacenar nodos\n",
    "all_nodes = set()\n",
    "users_nodes = set()\n",
    "words_nodes = set()\n",
    "\n",
    "# Proceso para obtener los nodos de la red\n",
    "for x,y,w in all_edges:\n",
    "    users_nodes.add(x)\n",
    "    words_nodes.add(y)\n",
    "    all_nodes.add(x)\n",
    "    all_nodes.add(y)\n",
    "\n",
    "print(\"El tamaño de la red está definido por los siguientes valores:\")\n",
    "print(\"Total de enlaces:\", len(all_edges))\n",
    "print(\"Total de nodos:\", len(all_nodes))\n",
    "print(\"Total de nodos usuario:\", len(users_nodes))\n",
    "print(\"Total de nodos de palabras:\", len(words_nodes))"
   ]
  },
  {
   "cell_type": "code",
   "execution_count": 3,
   "metadata": {},
   "outputs": [],
   "source": [
    "B = nx.Graph()\n",
    "\n",
    "B.add_nodes_from(users_nodes, bipartite=0)\n",
    "B.add_nodes_from(words_nodes, bipartite=1)\n",
    "\n",
    "B.add_edges_from(all_edges_aux)\n",
    "\n"
   ]
  },
  {
   "cell_type": "code",
   "execution_count": 5,
   "metadata": {},
   "outputs": [],
   "source": [
    "# Obtenemos la proyección de palabras\n",
    "word_projection = nx.bipartite.weighted_projected_graph(B, words_nodes)"
   ]
  },
  {
   "cell_type": "code",
   "execution_count": 6,
   "metadata": {},
   "outputs": [],
   "source": [
    "nx.write_gexf(word_projection, \"proyeccion_palabras_data.gexf\")"
   ]
  },
  {
   "cell_type": "code",
   "execution_count": null,
   "metadata": {},
   "outputs": [
    {
     "name": "stdout",
     "output_type": "stream",
     "text": [
      "Graph with 10627 nodes and 295277 edges\n"
     ]
    }
   ],
   "source": [
    "print(word_projection)"
   ]
  }
 ],
 "metadata": {
  "kernelspec": {
   "display_name": "Visionartificial",
   "language": "python",
   "name": "python3"
  },
  "language_info": {
   "codemirror_mode": {
    "name": "ipython",
    "version": 3
   },
   "file_extension": ".py",
   "mimetype": "text/x-python",
   "name": "python",
   "nbconvert_exporter": "python",
   "pygments_lexer": "ipython3",
   "version": "3.9.12"
  },
  "orig_nbformat": 4
 },
 "nbformat": 4,
 "nbformat_minor": 2
}
